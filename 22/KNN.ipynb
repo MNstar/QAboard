{
 "cells": [
  {
   "cell_type": "code",
   "execution_count": 1,
   "metadata": {},
   "outputs": [],
   "source": [
    "import numpy as np\n",
    "import os,random\n",
    "from collections import Counter\n",
    "import operator\n",
    "from sklearn.metrics import classification_report, confusion_matrix,accuracy_score"
   ]
  },
  {
   "cell_type": "code",
   "execution_count": 2,
   "metadata": {},
   "outputs": [],
   "source": [
    "path_list = os.listdir('./trainingDigits/')"
   ]
  },
  {
   "cell_type": "code",
   "execution_count": 3,
   "metadata": {},
   "outputs": [
    {
     "data": {
      "text/plain": [
       "(1, 1024)"
      ]
     },
     "execution_count": 3,
     "metadata": {},
     "output_type": "execute_result"
    }
   ],
   "source": [
    "'''读取文件'''\n",
    "def img2vector(filename):\n",
    "     returnVect = np.zeros((1,1024))\n",
    "     fr = open(filename)\n",
    "     for i in range(32):\n",
    "         lineStr = fr.readline()\n",
    "         for j in range(32):\n",
    "             returnVect[0,32*i+j] = int(lineStr[j])\n",
    "     return returnVect\n",
    "img2vector('./trainingDigits/' + path_list[0]).shape"
   ]
  },
  {
   "cell_type": "code",
   "execution_count": 4,
   "metadata": {},
   "outputs": [
    {
     "data": {
      "text/plain": [
       "(1934, 1024)"
      ]
     },
     "execution_count": 4,
     "metadata": {},
     "output_type": "execute_result"
    }
   ],
   "source": [
    "'''制作可用数据集'''\n",
    "data_array = np.zeros(shape=(len(path_list), 1024))\n",
    "label_array = np.zeros(shape=(len(path_list),))\n",
    "for i in range(0, len(path_list)):\n",
    "    data_array[i] = img2vector('./trainingDigits/' + path_list[i])\n",
    "    label_array[i] = path_list[i][0]\n",
    "\n",
    "index = [i for i in range(0, len(path_list))]\n",
    "random.shuffle(index)\n",
    "data_shuffle = data_array[index]\n",
    "label_shuffle = label_array[index]\n",
    "label_shuffle.shape\n",
    "data_array.shape"
   ]
  },
  {
   "cell_type": "code",
   "execution_count": 5,
   "metadata": {},
   "outputs": [
    {
     "data": {
      "text/plain": [
       "(1500, 1024)"
      ]
     },
     "execution_count": 5,
     "metadata": {},
     "output_type": "execute_result"
    }
   ],
   "source": [
    "'''划分数据集'''\n",
    "X_train = data_shuffle[0: 1500]\n",
    "y_train = label_shuffle[0: 1500]\n",
    "X_test = data_shuffle[1500: -1]\n",
    "y_test = label_shuffle[1500: -1]\n",
    "X_train.shape\n"
   ]
  },
  {
   "cell_type": "code",
   "execution_count": 11,
   "metadata": {},
   "outputs": [],
   "source": [
    "'''计算距离p=1曼哈顿，2为欧式距离'''\n",
    "def L(x, y, p=2):\n",
    "    # x1 = [1, 1], x2 = [5,1]\n",
    "    if len(x) == len(y) and len(x) > 1:\n",
    "        sum = 0\n",
    "        for i in range(len(x)):\n",
    "            sum += math.pow(abs(x[i] - y[i]), p)\n",
    "        return math.pow(sum, 1 / p)\n",
    "    else:\n",
    "        return 0\n",
    "'''面向对象建立模型'''\n",
    "class KNN:\n",
    "    def __init__(self, X_train, y_train, n_neighbors=4, p=2):\n",
    "\n",
    "        self.n = n_neighbors\n",
    "        self.p = p\n",
    "        self.X_train = X_train\n",
    "        self.y_train = y_train\n",
    "\n",
    "    def predict(self, X):\n",
    "        # 取出n个点\n",
    "        knn_list = []\n",
    "        for i in range(self.n):\n",
    "            dist = np.linalg.norm(X - self.X_train[i], ord=self.p)\n",
    "            knn_list.append((dist, self.y_train[i]))\n",
    "\n",
    "        for i in range(self.n, len(self.X_train)):\n",
    "            max_index = knn_list.index(max(knn_list, key=lambda x: x[0]))\n",
    "            dist = np.linalg.norm(X - self.X_train[i], ord=self.p)\n",
    "            if knn_list[max_index][0] > dist:\n",
    "                knn_list[max_index] = (dist, self.y_train[i])\n",
    "\n",
    "        # 统计\n",
    "        knn = [k[-1] for k in knn_list]\n",
    "        count_pairs = Counter(knn)\n",
    "        max_count = sorted(count_pairs.items(), key=lambda x: x[1])[-1][0]\n",
    "        return max_count\n",
    "\n",
    "    def score(self, X_test, y_test):\n",
    "        right_count = 0\n",
    "        n = 10\n",
    "        for X, y in zip(X_test, y_test):\n",
    "            label = self.predict(X)\n",
    "            if label == y:\n",
    "                right_count += 1\n",
    "        return right_count / len(X_test)"
   ]
  },
  {
   "cell_type": "code",
   "execution_count": 12,
   "metadata": {},
   "outputs": [],
   "source": [
    "clf = KNN(X_train, y_train)"
   ]
  },
  {
   "cell_type": "code",
   "execution_count": 13,
   "metadata": {},
   "outputs": [
    {
     "data": {
      "text/plain": [
       "0.9745958429561201"
      ]
     },
     "execution_count": 13,
     "metadata": {},
     "output_type": "execute_result"
    }
   ],
   "source": [
    "clf.score(X_test, y_test)"
   ]
  },
  {
   "cell_type": "code",
   "execution_count": 9,
   "metadata": {},
   "outputs": [],
   "source": [
    "'''简化了一下'''\n",
    "def knn_model(x_test, x_data, y_data, k):\n",
    "    # 计算样本数量\n",
    "    x_size = x_data.shape[0]\n",
    "    # 复制样本\n",
    "    x_test = np.tile(x_test, (x_size, 1))\n",
    "    # 计算欧式距离\n",
    "    distance = np.square(x_test - x_data).sum(axis=1) ** 0.5\n",
    "    # 排序索引\n",
    "    disArg = distance.argsort()\n",
    "    # 创建空字典\n",
    "    classCount = {}\n",
    "    # 循环k次将在范围内的值与对应的类别储存在字典中\n",
    "    for i in range(k):\n",
    "        # 将对应类别赋值作为字典的键\n",
    "        voteClass = y_data[disArg[i]]\n",
    "        # 给键赋值，如果没有给定的键，那么创建一个键并赋值给0\n",
    "        classCount[voteClass] = classCount.get(voteClass, 0) + 1\n",
    "\n",
    "    # 对字典进行降序排列\n",
    "    dict_sort = sorted(classCount.items(), key=operator.itemgetter(1), reverse=True)\n",
    "\n",
    "    # 取最小值\n",
    "    knnclass = dict_sort[0][0]\n",
    "    return knnclass"
   ]
  },
  {
   "cell_type": "code",
   "execution_count": 10,
   "metadata": {},
   "outputs": [
    {
     "data": {
      "text/plain": [
       "0.9815242494226328"
      ]
     },
     "execution_count": 10,
     "metadata": {},
     "output_type": "execute_result"
    }
   ],
   "source": [
    "predictions = []\n",
    "for i in range(X_test.shape[0]):\n",
    "    predictions.append(knn_model(X_test[i], X_train, y_train, 4))\n",
    "\n",
    "accuracy_score(y_test, predictions)\n"
   ]
  },
  {
   "cell_type": "code",
   "execution_count": null,
   "metadata": {},
   "outputs": [],
   "source": []
  }
 ],
 "metadata": {
  "kernelspec": {
   "display_name": "Python 3",
   "language": "python",
   "name": "python3"
  },
  "language_info": {
   "codemirror_mode": {
    "name": "ipython",
    "version": 3
   },
   "file_extension": ".py",
   "mimetype": "text/x-python",
   "name": "python",
   "nbconvert_exporter": "python",
   "pygments_lexer": "ipython3",
   "version": "3.6.7"
  }
 },
 "nbformat": 4,
 "nbformat_minor": 2
}
